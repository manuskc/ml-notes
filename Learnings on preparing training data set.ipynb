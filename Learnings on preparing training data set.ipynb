{
 "cells": [
  {
   "cell_type": "markdown",
   "metadata": {
    "collapsed": true
   },
   "source": [
    "# Few learnings on preparing data for machine learnign algorithms\n",
    "\n",
    "Training data plays a key role in deciding the quality of predictisons of the trained model, here are few basic learnings I had about preparing the training data that for one of my first ML competition on HackerEarth.\n",
    "\n",
    "__Problem statement:__\n",
    "\n",
    "Ad click prediciton based on user history on various parameters like Device, Browser, Location, Ad category, Site, Offer type etc given a training set of historical events of ads shown to user wheather the ad was clicked or not along with timestamps.\n"
   ]
  },
  {
   "cell_type": "markdown",
   "metadata": {},
   "source": [
    "__Let's see how data looks like:__"
   ]
  },
  {
   "cell_type": "code",
   "execution_count": 5,
   "metadata": {
    "scrolled": false
   },
   "outputs": [
    {
     "name": "stderr",
     "output_type": "stream",
     "text": [
      "Parsed with column specification:\n",
      "cols(\n",
      "  ID = col_character(),\n",
      "  datetime = col_datetime(format = \"\"),\n",
      "  siteid = col_integer(),\n",
      "  offerid = col_integer(),\n",
      "  category = col_integer(),\n",
      "  merchant = col_integer(),\n",
      "  countrycode = col_character(),\n",
      "  browserid = col_character(),\n",
      "  devid = col_character(),\n",
      "  click = col_integer()\n",
      ")\n"
     ]
    },
    {
     "data": {
      "text/html": [
       "<table>\n",
       "<thead><tr><th scope=col>ID</th><th scope=col>datetime</th><th scope=col>siteid</th><th scope=col>offerid</th><th scope=col>category</th><th scope=col>merchant</th><th scope=col>countrycode</th><th scope=col>browserid</th><th scope=col>devid</th><th scope=col>click</th></tr></thead>\n",
       "<tbody>\n",
       "\t<tr><td>IDsrk7SoW          </td><td>2017-01-14 09:42:09</td><td>4709696            </td><td>887235             </td><td>17714              </td><td>20301556           </td><td>e                  </td><td>Firefox            </td><td>NA                 </td><td>0                  </td></tr>\n",
       "\t<tr><td>IDmMSxHur          </td><td>2017-01-18 17:50:53</td><td>5189467            </td><td>178235             </td><td>21407              </td><td> 9434818           </td><td>b                  </td><td>Mozilla Firefox    </td><td>Desktop            </td><td>0                  </td></tr>\n",
       "\t<tr><td>IDVLNN0Ut          </td><td>2017-01-11 12:46:49</td><td>  98480            </td><td>518539             </td><td>25085              </td><td> 2050923           </td><td>a                  </td><td>Edge               </td><td>NA                 </td><td>0                  </td></tr>\n",
       "\t<tr><td>ID32T6wwQ          </td><td>2017-01-17 10:18:43</td><td>8896401            </td><td>390352             </td><td>40339              </td><td>72089744           </td><td>c                  </td><td>Firefox            </td><td>Mobile             </td><td>0                  </td></tr>\n",
       "\t<tr><td>IDqUShzMg          </td><td>2017-01-14 16:02:33</td><td>5635120            </td><td>472937             </td><td>12052              </td><td>39507200           </td><td>d                  </td><td>Mozilla Firefox    </td><td>Desktop            </td><td>0                  </td></tr>\n",
       "\t<tr><td>IDjO9XQ1Z          </td><td>2017-01-14 12:08:49</td><td>2729292            </td><td>961176             </td><td>33638              </td><td>47079934           </td><td>e                  </td><td>Google Chrome      </td><td>Mobile             </td><td>0                  </td></tr>\n",
       "</tbody>\n",
       "</table>\n"
      ],
      "text/latex": [
       "\\begin{tabular}{r|llllllllll}\n",
       " ID & datetime & siteid & offerid & category & merchant & countrycode & browserid & devid & click\\\\\n",
       "\\hline\n",
       "\t IDsrk7SoW           & 2017-01-14 09:42:09 & 4709696             & 887235              & 17714               & 20301556            & e                   & Firefox             & NA                  & 0                  \\\\\n",
       "\t IDmMSxHur           & 2017-01-18 17:50:53 & 5189467             & 178235              & 21407               &  9434818            & b                   & Mozilla Firefox     & Desktop             & 0                  \\\\\n",
       "\t IDVLNN0Ut           & 2017-01-11 12:46:49 &   98480             & 518539              & 25085               &  2050923            & a                   & Edge                & NA                  & 0                  \\\\\n",
       "\t ID32T6wwQ           & 2017-01-17 10:18:43 & 8896401             & 390352              & 40339               & 72089744            & c                   & Firefox             & Mobile              & 0                  \\\\\n",
       "\t IDqUShzMg           & 2017-01-14 16:02:33 & 5635120             & 472937              & 12052               & 39507200            & d                   & Mozilla Firefox     & Desktop             & 0                  \\\\\n",
       "\t IDjO9XQ1Z           & 2017-01-14 12:08:49 & 2729292             & 961176              & 33638               & 47079934            & e                   & Google Chrome       & Mobile              & 0                  \\\\\n",
       "\\end{tabular}\n"
      ],
      "text/markdown": [
       "\n",
       "ID | datetime | siteid | offerid | category | merchant | countrycode | browserid | devid | click | \n",
       "|---|---|---|---|---|---|\n",
       "| IDsrk7SoW           | 2017-01-14 09:42:09 | 4709696             | 887235              | 17714               | 20301556            | e                   | Firefox             | NA                  | 0                   | \n",
       "| IDmMSxHur           | 2017-01-18 17:50:53 | 5189467             | 178235              | 21407               |  9434818            | b                   | Mozilla Firefox     | Desktop             | 0                   | \n",
       "| IDVLNN0Ut           | 2017-01-11 12:46:49 |   98480             | 518539              | 25085               |  2050923            | a                   | Edge                | NA                  | 0                   | \n",
       "| ID32T6wwQ           | 2017-01-17 10:18:43 | 8896401             | 390352              | 40339               | 72089744            | c                   | Firefox             | Mobile              | 0                   | \n",
       "| IDqUShzMg           | 2017-01-14 16:02:33 | 5635120             | 472937              | 12052               | 39507200            | d                   | Mozilla Firefox     | Desktop             | 0                   | \n",
       "| IDjO9XQ1Z           | 2017-01-14 12:08:49 | 2729292             | 961176              | 33638               | 47079934            | e                   | Google Chrome       | Mobile              | 0                   | \n",
       "\n",
       "\n"
      ],
      "text/plain": [
       "  ID        datetime            siteid  offerid category merchant countrycode\n",
       "1 IDsrk7SoW 2017-01-14 09:42:09 4709696 887235  17714    20301556 e          \n",
       "2 IDmMSxHur 2017-01-18 17:50:53 5189467 178235  21407     9434818 b          \n",
       "3 IDVLNN0Ut 2017-01-11 12:46:49   98480 518539  25085     2050923 a          \n",
       "4 ID32T6wwQ 2017-01-17 10:18:43 8896401 390352  40339    72089744 c          \n",
       "5 IDqUShzMg 2017-01-14 16:02:33 5635120 472937  12052    39507200 d          \n",
       "6 IDjO9XQ1Z 2017-01-14 12:08:49 2729292 961176  33638    47079934 e          \n",
       "  browserid       devid   click\n",
       "1 Firefox         NA      0    \n",
       "2 Mozilla Firefox Desktop 0    \n",
       "3 Edge            NA      0    \n",
       "4 Firefox         Mobile  0    \n",
       "5 Mozilla Firefox Desktop 0    \n",
       "6 Google Chrome   Mobile  0    "
      ]
     },
     "metadata": {},
     "output_type": "display_data"
    }
   ],
   "source": [
    "setwd(\"~/pgms/ml/he3\") #This is my local dir\n",
    "library(\"readr\")\n",
    "data <- read_csv(\"train.csv\")\n",
    "head(data)"
   ]
  },
  {
   "cell_type": "markdown",
   "metadata": {},
   "source": [
    "__Let's see the data size:__"
   ]
  },
  {
   "cell_type": "code",
   "execution_count": 7,
   "metadata": {},
   "outputs": [
    {
     "data": {
      "text/html": [
       "<ol class=list-inline>\n",
       "\t<li>12137810</li>\n",
       "\t<li>10</li>\n",
       "</ol>\n"
      ],
      "text/latex": [
       "\\begin{enumerate*}\n",
       "\\item 12137810\n",
       "\\item 10\n",
       "\\end{enumerate*}\n"
      ],
      "text/markdown": [
       "1. 12137810\n",
       "2. 10\n",
       "\n",
       "\n"
      ],
      "text/plain": [
       "[1] 12137810       10"
      ]
     },
     "metadata": {},
     "output_type": "display_data"
    }
   ],
   "source": [
    "dim(data)"
   ]
  },
  {
   "cell_type": "markdown",
   "metadata": {},
   "source": [
    "## Lesson 1: Have the data distrubuted uniformly over all classes in training set"
   ]
  },
  {
   "cell_type": "markdown",
   "metadata": {},
   "source": [
    "How do we go about choosing a training set and validation set? \n",
    "\n",
    "One very common way is to randomly choose 60% of data for training and 40% for validation - this mught work in most cases, but we need to be cautious of the data set we are handling, lets see why this strategy does not work for us and what us the best strategy."
   ]
  },
  {
   "cell_type": "code",
   "execution_count": 8,
   "metadata": {},
   "outputs": [],
   "source": [
    "set.seed(42)\n",
    "select <- sample(2, nrow(data), replace = T, prob=c(0.6,0.4))\n",
    "train <- data[select == 1,]\n",
    "validate <- data[select == 2,]"
   ]
  },
  {
   "cell_type": "markdown",
   "metadata": {},
   "source": [
    "__Let's analyse how our training set is distributed.__"
   ]
  },
  {
   "cell_type": "code",
   "execution_count": 9,
   "metadata": {
    "scrolled": true
   },
   "outputs": [
    {
     "data": {
      "text/html": [
       "<table>\n",
       "<thead><tr><th scope=col>Var1</th><th scope=col>Freq</th></tr></thead>\n",
       "<tbody>\n",
       "\t<tr><td>0       </td><td>11700596</td></tr>\n",
       "\t<tr><td>1       </td><td>  437214</td></tr>\n",
       "</tbody>\n",
       "</table>\n"
      ],
      "text/latex": [
       "\\begin{tabular}{r|ll}\n",
       " Var1 & Freq\\\\\n",
       "\\hline\n",
       "\t 0        & 11700596\\\\\n",
       "\t 1        &   437214\\\\\n",
       "\\end{tabular}\n"
      ],
      "text/markdown": [
       "\n",
       "Var1 | Freq | \n",
       "|---|---|\n",
       "| 0        | 11700596 | \n",
       "| 1        |   437214 | \n",
       "\n",
       "\n"
      ],
      "text/plain": [
       "  Var1 Freq    \n",
       "1 0    11700596\n",
       "2 1      437214"
      ]
     },
     "metadata": {},
     "output_type": "display_data"
    }
   ],
   "source": [
    "click_dist <- table(data$click)\n",
    "as.data.frame(click_dist)"
   ]
  },
  {
   "cell_type": "code",
   "execution_count": 39,
   "metadata": {},
   "outputs": [
    {
     "data": {
      "image/png": "[encoded data removed]",
      "text/plain": [
       "Plot with title “Click distribution”"
      ]
     },
     "metadata": {},
     "output_type": "display_data"
    }
   ],
   "source": [
    "barplot(click_dist, main=\"Click distribution\", xlab=\"click\", ylab=\"Frequency\")"
   ]
  },
  {
   "cell_type": "markdown",
   "metadata": {},
   "source": [
    "The training set heavily skewed, it contains extremely small number of observations for `click=1` what this means is if we train a model to predict click based on this training set. Irrespective of the algorithm we choose to build our prediction model, the model can choose to always say \"click = 0\", because of a simple fact that within the training set, always predicting click=0 will give a pretty high accuracy score."
   ]
  },
  {
   "cell_type": "code",
   "execution_count": 10,
   "metadata": {},
   "outputs": [
    {
     "data": {
      "text/html": [
       "<strong>0:</strong> 0.963979169224102"
      ],
      "text/latex": [
       "\\textbf{0:} 0.963979169224102"
      ],
      "text/markdown": [
       "**0:** 0.963979169224102"
      ],
      "text/plain": [
       "        0 \n",
       "0.9639792 "
      ]
     },
     "metadata": {},
     "output_type": "display_data"
    }
   ],
   "source": [
    "#accuracy\n",
    "click_dist[1] / (click_dist[1] + click_dist[2])"
   ]
  },
  {
   "cell_type": "markdown",
   "metadata": {},
   "source": [
    "__Conclusion__:\n",
    "* Make sure your data is distrubuted evenly across all the classes if you are training a classifier, \n",
    "* More than this, the bigger lesson here is, it is important to understand the data we are using and select a meaningful training set \n",
    "* + For example if you are building a regression model to predict someting over the same data, say user-engangement-time - and let say you initially had a weeks worth of data - it makes more sense evenly choose 60% of data from all days of the week rather then say using first 4 days of data as training set - this way we capture the user behaviour on weekdays and weekends\n",
    "* + Where as if the same data was for weather prediction (temperatire) it doesn't matter weekdays or weekends (Moths matter there!)"
   ]
  },
  {
   "cell_type": "markdown",
   "metadata": {},
   "source": [
    "## Lesson 2: Have an eye for hidden info"
   ]
  },
  {
   "cell_type": "markdown",
   "metadata": {},
   "source": [
    "More often than not, the data set has very insightful info but not very apparent. Sometimes you need to know what you are searching for already and then you might surprisingly find ways to dig out that information from the data.\n",
    "\n",
    "In the current problem, I was trying to fit a decision tree / random forest to predict the ad click. My intuition was people click on ads more during the evenings than in days because you are at work during the day time (I might be wrong as well but this was something I wanted to check) - Also the time varies across the globe and I had to use some timezone info to come up with my new time category for DAY/EVENING/NIGHT etc\n",
    "\n",
    "One easy way to achieve this was to use ```hour of the day```, ```day of the week``` and ```country code``` as categorical variables - the combination of which will generate 24 classes of time of day and also the contry code helps handling the timezone varioation and day of week adds any bias related to weekend vs/weekday. \n",
    "\n",
    "Note that the timestams are all in UTC and the day we generate might not be the day in a given country - but we will not be off by more than an hour if you think about it!\n",
    "\n",
    "In fact it turned out that country code / hour as primary variables in splitting the nodes at initial level once the decision tree was generated."
   ]
  },
  {
   "cell_type": "code",
   "execution_count": 17,
   "metadata": {},
   "outputs": [
    {
     "data": {
      "text/html": [
       "<ol class=list-inline>\n",
       "\t<li>'09'</li>\n",
       "\t<li>'17'</li>\n",
       "\t<li>'12'</li>\n",
       "\t<li>'10'</li>\n",
       "\t<li>'16'</li>\n",
       "\t<li>'12'</li>\n",
       "</ol>\n"
      ],
      "text/latex": [
       "\\begin{enumerate*}\n",
       "\\item '09'\n",
       "\\item '17'\n",
       "\\item '12'\n",
       "\\item '10'\n",
       "\\item '16'\n",
       "\\item '12'\n",
       "\\end{enumerate*}\n"
      ],
      "text/markdown": [
       "1. '09'\n",
       "2. '17'\n",
       "3. '12'\n",
       "4. '10'\n",
       "5. '16'\n",
       "6. '12'\n",
       "\n",
       "\n"
      ],
      "text/plain": [
       "[1] \"09\" \"17\" \"12\" \"10\" \"16\" \"12\""
      ]
     },
     "metadata": {},
     "output_type": "display_data"
    }
   ],
   "source": [
    "hours <- format(head(data$datetime), \"%H\")  #Extract hours\n",
    "hours"
   ]
  },
  {
   "cell_type": "code",
   "execution_count": 18,
   "metadata": {},
   "outputs": [
    {
     "data": {
      "text/html": [
       "<ol class=list-inline>\n",
       "\t<li>'Saturday'</li>\n",
       "\t<li>'Wednesday'</li>\n",
       "\t<li>'Wednesday'</li>\n",
       "\t<li>'Tuesday'</li>\n",
       "\t<li>'Saturday'</li>\n",
       "\t<li>'Saturday'</li>\n",
       "</ol>\n"
      ],
      "text/latex": [
       "\\begin{enumerate*}\n",
       "\\item 'Saturday'\n",
       "\\item 'Wednesday'\n",
       "\\item 'Wednesday'\n",
       "\\item 'Tuesday'\n",
       "\\item 'Saturday'\n",
       "\\item 'Saturday'\n",
       "\\end{enumerate*}\n"
      ],
      "text/markdown": [
       "1. 'Saturday'\n",
       "2. 'Wednesday'\n",
       "3. 'Wednesday'\n",
       "4. 'Tuesday'\n",
       "5. 'Saturday'\n",
       "6. 'Saturday'\n",
       "\n",
       "\n"
      ],
      "text/plain": [
       "[1] \"Saturday\"  \"Wednesday\" \"Wednesday\" \"Tuesday\"   \"Saturday\"  \"Saturday\" "
      ]
     },
     "metadata": {},
     "output_type": "display_data"
    }
   ],
   "source": [
    "weekday <- format(head(data$datetime), \"%A\")  #Extract weekday\n",
    "weekday"
   ]
  },
  {
   "cell_type": "code",
   "execution_count": 30,
   "metadata": {},
   "outputs": [
    {
     "data": {
      "text/html": [
       "<table>\n",
       "<thead><tr><th scope=col>ID</th><th scope=col>datetime</th><th scope=col>siteid</th><th scope=col>offerid</th><th scope=col>category</th><th scope=col>merchant</th><th scope=col>countrycode</th><th scope=col>browserid</th><th scope=col>devid</th><th scope=col>click</th><th scope=col>hours</th><th scope=col>weekday</th></tr></thead>\n",
       "<tbody>\n",
       "\t<tr><td>IDsrk7SoW          </td><td>2017-01-14 09:42:09</td><td>4709696            </td><td>887235             </td><td>17714              </td><td>20301556           </td><td>e                  </td><td>Firefox            </td><td>NA                 </td><td>0                  </td><td>09                 </td><td>Saturday           </td></tr>\n",
       "\t<tr><td>IDmMSxHur          </td><td>2017-01-18 17:50:53</td><td>5189467            </td><td>178235             </td><td>21407              </td><td> 9434818           </td><td>b                  </td><td>Mozilla Firefox    </td><td>Desktop            </td><td>0                  </td><td>17                 </td><td>Wednesday          </td></tr>\n",
       "\t<tr><td>IDVLNN0Ut          </td><td>2017-01-11 12:46:49</td><td>  98480            </td><td>518539             </td><td>25085              </td><td> 2050923           </td><td>a                  </td><td>Edge               </td><td>NA                 </td><td>0                  </td><td>12                 </td><td>Wednesday          </td></tr>\n",
       "\t<tr><td>ID32T6wwQ          </td><td>2017-01-17 10:18:43</td><td>8896401            </td><td>390352             </td><td>40339              </td><td>72089744           </td><td>c                  </td><td>Firefox            </td><td>Mobile             </td><td>0                  </td><td>10                 </td><td>Tuesday            </td></tr>\n",
       "\t<tr><td>IDqUShzMg          </td><td>2017-01-14 16:02:33</td><td>5635120            </td><td>472937             </td><td>12052              </td><td>39507200           </td><td>d                  </td><td>Mozilla Firefox    </td><td>Desktop            </td><td>0                  </td><td>16                 </td><td>Saturday           </td></tr>\n",
       "\t<tr><td>IDjO9XQ1Z          </td><td>2017-01-14 12:08:49</td><td>2729292            </td><td>961176             </td><td>33638              </td><td>47079934           </td><td>e                  </td><td>Google Chrome      </td><td>Mobile             </td><td>0                  </td><td>12                 </td><td>Saturday           </td></tr>\n",
       "</tbody>\n",
       "</table>\n"
      ],
      "text/latex": [
       "\\begin{tabular}{r|llllllllllll}\n",
       " ID & datetime & siteid & offerid & category & merchant & countrycode & browserid & devid & click & hours & weekday\\\\\n",
       "\\hline\n",
       "\t IDsrk7SoW           & 2017-01-14 09:42:09 & 4709696             & 887235              & 17714               & 20301556            & e                   & Firefox             & NA                  & 0                   & 09                  & Saturday           \\\\\n",
       "\t IDmMSxHur           & 2017-01-18 17:50:53 & 5189467             & 178235              & 21407               &  9434818            & b                   & Mozilla Firefox     & Desktop             & 0                   & 17                  & Wednesday          \\\\\n",
       "\t IDVLNN0Ut           & 2017-01-11 12:46:49 &   98480             & 518539              & 25085               &  2050923            & a                   & Edge                & NA                  & 0                   & 12                  & Wednesday          \\\\\n",
       "\t ID32T6wwQ           & 2017-01-17 10:18:43 & 8896401             & 390352              & 40339               & 72089744            & c                   & Firefox             & Mobile              & 0                   & 10                  & Tuesday            \\\\\n",
       "\t IDqUShzMg           & 2017-01-14 16:02:33 & 5635120             & 472937              & 12052               & 39507200            & d                   & Mozilla Firefox     & Desktop             & 0                   & 16                  & Saturday           \\\\\n",
       "\t IDjO9XQ1Z           & 2017-01-14 12:08:49 & 2729292             & 961176              & 33638               & 47079934            & e                   & Google Chrome       & Mobile              & 0                   & 12                  & Saturday           \\\\\n",
       "\\end{tabular}\n"
      ],
      "text/markdown": [
       "\n",
       "ID | datetime | siteid | offerid | category | merchant | countrycode | browserid | devid | click | hours | weekday | \n",
       "|---|---|---|---|---|---|\n",
       "| IDsrk7SoW           | 2017-01-14 09:42:09 | 4709696             | 887235              | 17714               | 20301556            | e                   | Firefox             | NA                  | 0                   | 09                  | Saturday            | \n",
       "| IDmMSxHur           | 2017-01-18 17:50:53 | 5189467             | 178235              | 21407               |  9434818            | b                   | Mozilla Firefox     | Desktop             | 0                   | 17                  | Wednesday           | \n",
       "| IDVLNN0Ut           | 2017-01-11 12:46:49 |   98480             | 518539              | 25085               |  2050923            | a                   | Edge                | NA                  | 0                   | 12                  | Wednesday           | \n",
       "| ID32T6wwQ           | 2017-01-17 10:18:43 | 8896401             | 390352              | 40339               | 72089744            | c                   | Firefox             | Mobile              | 0                   | 10                  | Tuesday             | \n",
       "| IDqUShzMg           | 2017-01-14 16:02:33 | 5635120             | 472937              | 12052               | 39507200            | d                   | Mozilla Firefox     | Desktop             | 0                   | 16                  | Saturday            | \n",
       "| IDjO9XQ1Z           | 2017-01-14 12:08:49 | 2729292             | 961176              | 33638               | 47079934            | e                   | Google Chrome       | Mobile              | 0                   | 12                  | Saturday            | \n",
       "\n",
       "\n"
      ],
      "text/plain": [
       "  ID        datetime            siteid  offerid category merchant countrycode\n",
       "1 IDsrk7SoW 2017-01-14 09:42:09 4709696 887235  17714    20301556 e          \n",
       "2 IDmMSxHur 2017-01-18 17:50:53 5189467 178235  21407     9434818 b          \n",
       "3 IDVLNN0Ut 2017-01-11 12:46:49   98480 518539  25085     2050923 a          \n",
       "4 ID32T6wwQ 2017-01-17 10:18:43 8896401 390352  40339    72089744 c          \n",
       "5 IDqUShzMg 2017-01-14 16:02:33 5635120 472937  12052    39507200 d          \n",
       "6 IDjO9XQ1Z 2017-01-14 12:08:49 2729292 961176  33638    47079934 e          \n",
       "  browserid       devid   click hours weekday  \n",
       "1 Firefox         NA      0     09    Saturday \n",
       "2 Mozilla Firefox Desktop 0     17    Wednesday\n",
       "3 Edge            NA      0     12    Wednesday\n",
       "4 Firefox         Mobile  0     10    Tuesday  \n",
       "5 Mozilla Firefox Desktop 0     16    Saturday \n",
       "6 Google Chrome   Mobile  0     12    Saturday "
      ]
     },
     "metadata": {},
     "output_type": "display_data"
    }
   ],
   "source": [
    "cbind(head(data), hours, weekday)"
   ]
  },
  {
   "cell_type": "markdown",
   "metadata": {},
   "source": [
    "## Lesson 3 : Converting from numerical to Categorical variables"
   ]
  },
  {
   "cell_type": "markdown",
   "metadata": {},
   "source": [
    "The concept is pretty straight forward, take a numerical feature, split into n ranges and treat each segment of the range as a category.\n",
    "\n",
    "Example : Age : 0-4, 4 - 12, 13 - 19, 20-30, 30+  for identifying various customer segment\n",
    "\n",
    "The problem here is, the same field can be segmented into multiple ways. which one is the right option?\n",
    "\n",
    "Like always, the understanding of the data at hand and problem we are trying to sovle should give the first level of hint. If you are analysing data of a movie rating system may be a segmentations for kids, teens and adults might suffice, but for a medical diagnostic you might want a fine grain segmentation ex: new borns, kids, teens, adult, old etc .. \n",
    "\n",
    "Sometimes the data does not have any particular meaning to forma a range - example : in our data set ```merchantcode``` - merchant code 1 is in no way comparable to merchant code 2 - in a sense it is alreayd categorical variable - but how do we get a better info in such situations.\n",
    "\n",
    "Let's see some info on merchant code"
   ]
  },
  {
   "cell_type": "code",
   "execution_count": 38,
   "metadata": {},
   "outputs": [
    {
     "data": {
      "text/html": [
       "697"
      ],
      "text/latex": [
       "697"
      ],
      "text/markdown": [
       "697"
      ],
      "text/plain": [
       "[1] 697"
      ]
     },
     "metadata": {},
     "output_type": "display_data"
    }
   ],
   "source": [
    "length(unique(data$merchant))  # Total number of unique merchants"
   ]
  },
  {
   "cell_type": "code",
   "execution_count": 39,
   "metadata": {},
   "outputs": [
    {
     "data": {
      "text/html": [
       "12137810"
      ],
      "text/latex": [
       "12137810"
      ],
      "text/markdown": [
       "12137810"
      ],
      "text/plain": [
       "[1] 12137810"
      ]
     },
     "metadata": {},
     "output_type": "display_data"
    }
   ],
   "source": [
    "nrow(data) # Total number of observations"
   ]
  },
  {
   "cell_type": "code",
   "execution_count": 40,
   "metadata": {},
   "outputs": [
    {
     "data": {
      "text/html": [
       "17414.3615494978"
      ],
      "text/latex": [
       "17414.3615494978"
      ],
      "text/markdown": [
       "17414.3615494978"
      ],
      "text/plain": [
       "[1] 17414.36"
      ]
     },
     "metadata": {},
     "output_type": "display_data"
    }
   ],
   "source": [
    "nrow(data) / length(unique(data$merchant))  # Average observations per merchant"
   ]
  },
  {
   "cell_type": "markdown",
   "metadata": {},
   "source": [
    "Even if we decide to use 697 levels for a feture in a dataset of 12 mn observations - it still sounds fair. But this is not always the case - sometimes we might have few thousands of levels, if the cardinality is pretty high we might want to reduce the number of levels in our categorical variable.\n",
    "\n",
    "Let's say we want to get down to a managable number of levels ( R's party package for creating decision tree cannot handle features with more than 20 levels - or some low number if I remember correctly)\n",
    "\n",
    "Also another motivation for me to process this data was, since this was a competition problem, I also had test set - and I found that the same merchant id was present in test set as well, so I wanted to make use of some inforamtion from training set.\n",
    "\n",
    "__Strategy:__\n",
    "Find the percentage of click for each merchant then categorize them by segments in percentage of click."
   ]
  },
  {
   "cell_type": "code",
   "execution_count": 49,
   "metadata": {},
   "outputs": [
    {
     "data": {
      "text/html": [
       "<table>\n",
       "<thead><tr><th></th><th scope=col>X0</th><th scope=col>X1</th><th scope=col>click_pct</th></tr></thead>\n",
       "<tbody>\n",
       "\t<tr><th scope=row>260443</th><td>  3893    </td><td>  310     </td><td>0.07375684</td></tr>\n",
       "\t<tr><th scope=row>555603</th><td>219103    </td><td>10393     </td><td>0.04528619</td></tr>\n",
       "\t<tr><th scope=row>628001</th><td>    78    </td><td>   23     </td><td>0.22772277</td></tr>\n",
       "\t<tr><th scope=row>1042419</th><td>    21    </td><td>   10     </td><td>0.32258065</td></tr>\n",
       "\t<tr><th scope=row>1064733</th><td>  4972    </td><td> 1319     </td><td>0.20966460</td></tr>\n",
       "\t<tr><th scope=row>1084693</th><td>  5169    </td><td>  408     </td><td>0.07315761</td></tr>\n",
       "</tbody>\n",
       "</table>\n"
      ],
      "text/latex": [
       "\\begin{tabular}{r|lll}\n",
       "  & X0 & X1 & click\\_pct\\\\\n",
       "\\hline\n",
       "\t260443 &   3893     &   310      & 0.07375684\\\\\n",
       "\t555603 & 219103     & 10393      & 0.04528619\\\\\n",
       "\t628001 &     78     &    23      & 0.22772277\\\\\n",
       "\t1042419 &     21     &    10      & 0.32258065\\\\\n",
       "\t1064733 &   4972     &  1319      & 0.20966460\\\\\n",
       "\t1084693 &   5169     &   408      & 0.07315761\\\\\n",
       "\\end{tabular}\n"
      ],
      "text/markdown": [
       "\n",
       "| <!--/--> | X0 | X1 | click_pct | \n",
       "|---|---|---|---|---|---|\n",
       "| 260443 |   3893     |   310      | 0.07375684 | \n",
       "| 555603 | 219103     | 10393      | 0.04528619 | \n",
       "| 628001 |     78     |    23      | 0.22772277 | \n",
       "| 1042419 |     21     |    10      | 0.32258065 | \n",
       "| 1064733 |   4972     |  1319      | 0.20966460 | \n",
       "| 1084693 |   5169     |   408      | 0.07315761 | \n",
       "\n",
       "\n"
      ],
      "text/plain": [
       "        X0     X1    click_pct \n",
       "260443    3893   310 0.07375684\n",
       "555603  219103 10393 0.04528619\n",
       "628001      78    23 0.22772277\n",
       "1042419     21    10 0.32258065\n",
       "1064733   4972  1319 0.20966460\n",
       "1084693   5169   408 0.07315761"
      ]
     },
     "metadata": {},
     "output_type": "display_data"
    }
   ],
   "source": [
    "merchants <- data.frame(rbind(table(data$merchant, data$click)))\n",
    "merchants$click_pct <- merchants$X1 / (merchants$X1 + merchants$X0)\n",
    "head(merchants)"
   ]
  },
  {
   "cell_type": "markdown",
   "metadata": {},
   "source": [
    "Now we are ready to split the ```click_pct``` into multiple segments - If we use a naive splitting strategy it might not work out well for all cases. Let's see what happens with a naive splitting logic.\n",
    "\n",
    "Example split data in classes for 0-10% click, 10-20%, .... 90-100% - which sounds like a fair strategy."
   ]
  },
  {
   "cell_type": "code",
   "execution_count": 52,
   "metadata": {},
   "outputs": [
    {
     "data": {
      "text/html": [
       "<table>\n",
       "<thead><tr><th></th><th scope=col>X0</th><th scope=col>X1</th><th scope=col>click_pct</th><th scope=col>catTypeA</th></tr></thead>\n",
       "<tbody>\n",
       "\t<tr><th scope=row>260443</th><td>  3893    </td><td>  310     </td><td>0.07375684</td><td>1         </td></tr>\n",
       "\t<tr><th scope=row>555603</th><td>219103    </td><td>10393     </td><td>0.04528619</td><td>1         </td></tr>\n",
       "\t<tr><th scope=row>628001</th><td>    78    </td><td>   23     </td><td>0.22772277</td><td>3         </td></tr>\n",
       "\t<tr><th scope=row>1042419</th><td>    21    </td><td>   10     </td><td>0.32258065</td><td>4         </td></tr>\n",
       "\t<tr><th scope=row>1064733</th><td>  4972    </td><td> 1319     </td><td>0.20966460</td><td>3         </td></tr>\n",
       "\t<tr><th scope=row>1084693</th><td>  5169    </td><td>  408     </td><td>0.07315761</td><td>1         </td></tr>\n",
       "</tbody>\n",
       "</table>\n"
      ],
      "text/latex": [
       "\\begin{tabular}{r|llll}\n",
       "  & X0 & X1 & click\\_pct & catTypeA\\\\\n",
       "\\hline\n",
       "\t260443 &   3893     &   310      & 0.07375684 & 1         \\\\\n",
       "\t555603 & 219103     & 10393      & 0.04528619 & 1         \\\\\n",
       "\t628001 &     78     &    23      & 0.22772277 & 3         \\\\\n",
       "\t1042419 &     21     &    10      & 0.32258065 & 4         \\\\\n",
       "\t1064733 &   4972     &  1319      & 0.20966460 & 3         \\\\\n",
       "\t1084693 &   5169     &   408      & 0.07315761 & 1         \\\\\n",
       "\\end{tabular}\n"
      ],
      "text/markdown": [
       "\n",
       "| <!--/--> | X0 | X1 | click_pct | catTypeA | \n",
       "|---|---|---|---|---|---|\n",
       "| 260443 |   3893     |   310      | 0.07375684 | 1          | \n",
       "| 555603 | 219103     | 10393      | 0.04528619 | 1          | \n",
       "| 628001 |     78     |    23      | 0.22772277 | 3          | \n",
       "| 1042419 |     21     |    10      | 0.32258065 | 4          | \n",
       "| 1064733 |   4972     |  1319      | 0.20966460 | 3          | \n",
       "| 1084693 |   5169     |   408      | 0.07315761 | 1          | \n",
       "\n",
       "\n"
      ],
      "text/plain": [
       "        X0     X1    click_pct  catTypeA\n",
       "260443    3893   310 0.07375684 1       \n",
       "555603  219103 10393 0.04528619 1       \n",
       "628001      78    23 0.22772277 3       \n",
       "1042419     21    10 0.32258065 4       \n",
       "1064733   4972  1319 0.20966460 3       \n",
       "1084693   5169   408 0.07315761 1       "
      ]
     },
     "metadata": {},
     "output_type": "display_data"
    }
   ],
   "source": [
    "\n",
    "splits = seq(from=0,to=1,by=0.1)\n",
    "splits[1] = -1\n",
    "merchants$catTypeA <- cut(merchants$click_pct, breaks = splits, labels = 1:10)\n",
    "\n",
    "head(merchants)"
   ]
  },
  {
   "cell_type": "markdown",
   "metadata": {},
   "source": [
    "Cool! We have successfully used merchant id info to add a categorical variable of just 10 levels, but is that really useful? Lets see how the catTypeA info looks like."
   ]
  },
  {
   "cell_type": "code",
   "execution_count": 57,
   "metadata": {},
   "outputs": [
    {
     "data": {
      "image/png": "[encoded data removed]",
      "text/plain": [
       "plot without title"
      ]
     },
     "metadata": {},
     "output_type": "display_data"
    }
   ],
   "source": [
    "barplot(table(merchants$catTypeA))"
   ]
  },
  {
   "cell_type": "markdown",
   "metadata": {},
   "source": [
    "Well, significant number of merchants have a click_pct < 20% - while this categorical split may help in few models for a decision tree, it is better to have a more event split category which gives the algorithm an option to split data in better ways."
   ]
  },
  {
   "cell_type": "code",
   "execution_count": 69,
   "metadata": {
    "collapsed": true
   },
   "outputs": [],
   "source": [
    "merchants$catTypeB <- cut(merchants$click_pct, breaks = c(-0.01, 0.01, 0.02, 0.03, 0.04, 0.05,0.06, 0.07, 0.08, 0.2, 1), labels = 1:10)"
   ]
  },
  {
   "cell_type": "code",
   "execution_count": 59,
   "metadata": {},
   "outputs": [
    {
     "data": {
      "text/html": [
       "<table>\n",
       "<thead><tr><th></th><th scope=col>X0</th><th scope=col>X1</th><th scope=col>click_pct</th><th scope=col>catTypeA</th><th scope=col>catTypeB</th></tr></thead>\n",
       "<tbody>\n",
       "\t<tr><th scope=row>260443</th><td>  3893    </td><td>  310     </td><td>0.07375684</td><td>1         </td><td>8         </td></tr>\n",
       "\t<tr><th scope=row>555603</th><td>219103    </td><td>10393     </td><td>0.04528619</td><td>1         </td><td>5         </td></tr>\n",
       "\t<tr><th scope=row>628001</th><td>    78    </td><td>   23     </td><td>0.22772277</td><td>3         </td><td>10        </td></tr>\n",
       "\t<tr><th scope=row>1042419</th><td>    21    </td><td>   10     </td><td>0.32258065</td><td>4         </td><td>10        </td></tr>\n",
       "\t<tr><th scope=row>1064733</th><td>  4972    </td><td> 1319     </td><td>0.20966460</td><td>3         </td><td>10        </td></tr>\n",
       "\t<tr><th scope=row>1084693</th><td>  5169    </td><td>  408     </td><td>0.07315761</td><td>1         </td><td>8         </td></tr>\n",
       "</tbody>\n",
       "</table>\n"
      ],
      "text/latex": [
       "\\begin{tabular}{r|lllll}\n",
       "  & X0 & X1 & click\\_pct & catTypeA & catTypeB\\\\\n",
       "\\hline\n",
       "\t260443 &   3893     &   310      & 0.07375684 & 1          & 8         \\\\\n",
       "\t555603 & 219103     & 10393      & 0.04528619 & 1          & 5         \\\\\n",
       "\t628001 &     78     &    23      & 0.22772277 & 3          & 10        \\\\\n",
       "\t1042419 &     21     &    10      & 0.32258065 & 4          & 10        \\\\\n",
       "\t1064733 &   4972     &  1319      & 0.20966460 & 3          & 10        \\\\\n",
       "\t1084693 &   5169     &   408      & 0.07315761 & 1          & 8         \\\\\n",
       "\\end{tabular}\n"
      ],
      "text/markdown": [
       "\n",
       "| <!--/--> | X0 | X1 | click_pct | catTypeA | catTypeB | \n",
       "|---|---|---|---|---|---|\n",
       "| 260443 |   3893     |   310      | 0.07375684 | 1          | 8          | \n",
       "| 555603 | 219103     | 10393      | 0.04528619 | 1          | 5          | \n",
       "| 628001 |     78     |    23      | 0.22772277 | 3          | 10         | \n",
       "| 1042419 |     21     |    10      | 0.32258065 | 4          | 10         | \n",
       "| 1064733 |   4972     |  1319      | 0.20966460 | 3          | 10         | \n",
       "| 1084693 |   5169     |   408      | 0.07315761 | 1          | 8          | \n",
       "\n",
       "\n"
      ],
      "text/plain": [
       "        X0     X1    click_pct  catTypeA catTypeB\n",
       "260443    3893   310 0.07375684 1        8       \n",
       "555603  219103 10393 0.04528619 1        5       \n",
       "628001      78    23 0.22772277 3        10      \n",
       "1042419     21    10 0.32258065 4        10      \n",
       "1064733   4972  1319 0.20966460 3        10      \n",
       "1084693   5169   408 0.07315761 1        8       "
      ]
     },
     "metadata": {},
     "output_type": "display_data"
    }
   ],
   "source": [
    "head(merchants)"
   ]
  },
  {
   "cell_type": "code",
   "execution_count": 70,
   "metadata": {},
   "outputs": [
    {
     "data": {
      "image/png": "[encoded data removed]",
      "text/plain": [
       "plot without title"
      ]
     },
     "metadata": {},
     "output_type": "display_data"
    }
   ],
   "source": [
    "barplot(table(merchants$catTypeB))"
   ]
  },
  {
   "cell_type": "markdown",
   "metadata": {},
   "source": [
    "In the second segmentaion the splits are more comparably distributed, the accuracy of the decision tree was also imorived on cross validation set in this way."
   ]
  },
  {
   "cell_type": "markdown",
   "metadata": {},
   "source": [
    "#### Thank you!\n",
    "\n",
    "Hope you enjoyed read this, for any comments, likes or pokes - tweet me at ```@manuskc```"
   ]
  }
 ],
 "metadata": {
  "kernelspec": {
   "display_name": "R",
   "language": "R",
   "name": "ir"
  },
  "language_info": {
   "codemirror_mode": "r",
   "file_extension": ".r",
   "mimetype": "text/x-r-source",
   "name": "R",
   "pygments_lexer": "r",
   "version": "3.4.1"
  }
 },
 "nbformat": 4,
 "nbformat_minor": 2
}
